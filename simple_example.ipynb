{
 "cells": [
  {
   "cell_type": "markdown",
   "metadata": {},
   "source": [
    "# simple example"
   ]
  },
  {
   "cell_type": "code",
   "execution_count": 1,
   "metadata": {},
   "outputs": [],
   "source": [
    "import numpy as np\n",
    "\n",
    "vels = np.array([1500.0])  # 1500 meters/second; water velocity\n",
    "thks = np.array([1000.0])  # single layer thickness of 1000 meters\n",
    "half_offset = 120  # 120 meter distance from midpoint to source or receiver"
   ]
  },
  {
   "cell_type": "code",
   "execution_count": 2,
   "metadata": {},
   "outputs": [
    {
     "name": "stdout",
     "output_type": "stream",
     "text": [
      "starting iterated local search for launch angle ...\n",
      "Restart 0, best: f(0.11942993515542116) = 0.00102\n",
      "Restart 27, best: f(0.11942852400908359) = 0.00041\n",
      "best solution found with half-offset: 119.99959220183155\n",
      "one-way traveltime: 0.6714494775826749 seconds\n"
     ]
    }
   ],
   "source": [
    "from traveltime1p5d import TravelTime1D\n",
    "t1d = TravelTime1D(pv=vels, dz=thks, h=half_offset)\n",
    "owt_sec = t1d.traveltime1D()\n",
    "print(f\"one-way traveltime: {owt_sec} seconds\")  # one-way travel time from base of layer to surface"
   ]
  },
  {
   "cell_type": "code",
   "execution_count": 3,
   "metadata": {},
   "outputs": [
    {
     "name": "stdout",
     "output_type": "stream",
     "text": [
      "launch angle: 0.11942852400908359 radians\n"
     ]
    }
   ],
   "source": [
    "# get the launch angle from the base of the layer\n",
    "# this is also the incident angle of the reflected ray\n",
    "l_rad = t1d.launch_angle()\n",
    "print(f\"launch angle: {l_rad} radians\")"
   ]
  },
  {
   "cell_type": "code",
   "execution_count": 4,
   "metadata": {},
   "outputs": [
    {
     "name": "stdout",
     "output_type": "stream",
     "text": [
      "1007.1742649611338\n",
      "one-way traveltime: 0.6714495099740891 seconds for ray\n",
      "absolute error: 3.2391414217514125e-08\n",
      "ray angle: 0.11942892601833845\n",
      "absolute error: 4.020092548573384e-07\n"
     ]
    }
   ],
   "source": [
    "# for a single layer this is easily checked\n",
    "len_ray = np.sqrt(half_offset**2 + thks[0]**2)  # length of the ray from base to surface\n",
    "print(len_ray)\n",
    "owt_ray = len_ray / vels[0]  # one-way traveltime in seconds\n",
    "print(f\"one-way traveltime: {owt_ray} seconds for ray\")\n",
    "print(f\"absolute error: {np.abs(owt_sec - owt_ray)}\")\n",
    "ray_rad = np.arctan2(half_offset, thks[0])\n",
    "print(f\"ray angle: {ray_rad}\")\n",
    "print(f\"absolute error: {np.abs(l_rad - ray_rad)}\")"
   ]
  }
 ],
 "metadata": {
  "kernelspec": {
   "display_name": "traveltime1p5d310",
   "language": "python",
   "name": "python3"
  },
  "language_info": {
   "codemirror_mode": {
    "name": "ipython",
    "version": 3
   },
   "file_extension": ".py",
   "mimetype": "text/x-python",
   "name": "python",
   "nbconvert_exporter": "python",
   "pygments_lexer": "ipython3",
   "version": "3.10.9"
  },
  "orig_nbformat": 4,
  "vscode": {
   "interpreter": {
    "hash": "7ecb298d14ddba1dd19163d190ada94b3dd1e1b1cac466ceb5c81dd09cdf0ba6"
   }
  }
 },
 "nbformat": 4,
 "nbformat_minor": 2
}
